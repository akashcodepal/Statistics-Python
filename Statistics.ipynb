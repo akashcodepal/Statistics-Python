{
 "cells": [
  {
   "cell_type": "code",
   "execution_count": 1,
   "metadata": {},
   "outputs": [],
   "source": [
    "import numpy as np"
   ]
  },
  {
   "cell_type": "markdown",
   "metadata": {},
   "source": [
    "## Mean , Median , Mode"
   ]
  },
  {
   "cell_type": "code",
   "execution_count": 3,
   "metadata": {},
   "outputs": [
    {
     "name": "stdout",
     "output_type": "stream",
     "text": [
      "4\n",
      "4 5 6 7 2 45 54\n",
      "Mean:- 17.571428571428573  Median:- 6.0\n",
      "[array([2]), array([1])]\n",
      "Mode:- 2\n"
     ]
    }
   ],
   "source": [
    "\n",
    "N , X = int(input()) , list(map(int,input().split()))\n",
    "\n",
    "mean_value = np.mean(X)\n",
    "median_value = np.median(X)\n",
    "print('Mean:-',mean_value,' Median:-', median_value)\n",
    "# for mode\n",
    "from scipy import stats\n",
    "\n",
    "x=list(stats.mode(X))\n",
    "print(x)\n",
    "print('Mode:-',x[0][0])"
   ]
  },
  {
   "cell_type": "markdown",
   "metadata": {},
   "source": [
    "## Weighted Mean"
   ]
  },
  {
   "cell_type": "code",
   "execution_count": 7,
   "metadata": {
    "scrolled": true
   },
   "outputs": [
    {
     "name": "stdout",
     "output_type": "stream",
     "text": [
      "4\n",
      "4 5 6 7\n",
      "7 6 5 4\n",
      "Weigthted Mean=  5.3\n"
     ]
    }
   ],
   "source": [
    "import numpy as np\n",
    "\n",
    "def weightedMean(X, W):\n",
    "    x , w = np.array(X) , np.array(W)\n",
    "    \n",
    "    x = x * w   # Broadcasting can be done only with numpy array\n",
    "    \n",
    "    total_x = sum(x)\n",
    "    total_w = sum(w)\n",
    "    print(\"Weigthted Mean=  %.1f\" %(total_x/total_w))    \n",
    "\n",
    "if __name__ == '__main__':\n",
    "    n = int(input().strip())\n",
    "\n",
    "    vals = list(map(int, input().rstrip().split()))\n",
    "\n",
    "    weights = list(map(int, input().rstrip().split()))\n",
    "\n",
    "    weightedMean(vals, weights)\n"
   ]
  },
  {
   "cell_type": "code",
   "execution_count": null,
   "metadata": {},
   "outputs": [],
   "source": []
  },
  {
   "cell_type": "code",
   "execution_count": null,
   "metadata": {},
   "outputs": [],
   "source": []
  }
 ],
 "metadata": {
  "kernelspec": {
   "display_name": "Python 3",
   "language": "python",
   "name": "python3"
  },
  "language_info": {
   "codemirror_mode": {
    "name": "ipython",
    "version": 3
   },
   "file_extension": ".py",
   "mimetype": "text/x-python",
   "name": "python",
   "nbconvert_exporter": "python",
   "pygments_lexer": "ipython3",
   "version": "3.8.5"
  }
 },
 "nbformat": 4,
 "nbformat_minor": 4
}
