{
 "cells": [
  {
   "cell_type": "code",
   "execution_count": 1,
   "metadata": {},
   "outputs": [],
   "source": [
    "import numpy as np"
   ]
  },
  {
   "cell_type": "markdown",
   "metadata": {},
   "source": [
    "## 2 ways for all Questions\n",
    "### 1 with numpy and other are normal solving"
   ]
  },
  {
   "cell_type": "markdown",
   "metadata": {},
   "source": [
    "## Mean , Median , Mode"
   ]
  },
  {
   "cell_type": "code",
   "execution_count": 3,
   "metadata": {},
   "outputs": [
    {
     "name": "stdout",
     "output_type": "stream",
     "text": [
      "4\n",
      "4 5 6 7 2 45 54\n",
      "Mean:- 17.571428571428573  Median:- 6.0\n",
      "[array([2]), array([1])]\n",
      "Mode:- 2\n"
     ]
    }
   ],
   "source": [
    "\n",
    "N , X = int(input()) , list(map(int,input().split()))\n",
    "\n",
    "mean_value = np.mean(X)\n",
    "median_value = np.median(X)\n",
    "print('Mean:-',mean_value,' Median:-', median_value)\n",
    "# for mode\n",
    "from scipy import stats\n",
    "\n",
    "x=list(stats.mode(X))\n",
    "print(x)\n",
    "print('Mode:-',x[0][0])"
   ]
  },
  {
   "cell_type": "markdown",
   "metadata": {},
   "source": [
    "## Weighted Mean"
   ]
  },
  {
   "cell_type": "code",
   "execution_count": 7,
   "metadata": {
    "scrolled": true
   },
   "outputs": [
    {
     "name": "stdout",
     "output_type": "stream",
     "text": [
      "4\n",
      "4 5 6 7\n",
      "7 6 5 4\n",
      "Weigthted Mean=  5.3\n"
     ]
    }
   ],
   "source": [
    "import numpy as np\n",
    "\n",
    "def weightedMean(X, W):\n",
    "    x , w = np.array(X) , np.array(W)\n",
    "    \n",
    "    x = x * w   # Broadcasting can be done only with numpy array\n",
    "    \n",
    "    total_x = sum(x)\n",
    "    total_w = sum(w)\n",
    "    print(\"Weigthted Mean=  %.1f\" %(total_x/total_w))    \n",
    "\n",
    "if __name__ == '__main__':\n",
    "    n = int(input().strip())\n",
    "\n",
    "    vals = list(map(int, input().rstrip().split()))\n",
    "\n",
    "    weights = list(map(int, input().rstrip().split()))\n",
    "\n",
    "    weightedMean(vals, weights)\n"
   ]
  },
  {
   "cell_type": "markdown",
   "metadata": {},
   "source": [
    "## Quatiles"
   ]
  },
  {
   "cell_type": "code",
   "execution_count": 10,
   "metadata": {},
   "outputs": [
    {
     "name": "stdout",
     "output_type": "stream",
     "text": [
      "12\n",
      "18 45 55 70 76 83 88 90 92 92 95 98\n"
     ]
    }
   ],
   "source": [
    "n=int(input())\n",
    "arr= sorted(list(map(int,input().split())))"
   ]
  },
  {
   "cell_type": "code",
   "execution_count": 16,
   "metadata": {
    "scrolled": true
   },
   "outputs": [
    {
     "name": "stdout",
     "output_type": "stream",
     "text": [
      "62\n",
      "85\n",
      "92\n"
     ]
    }
   ],
   "source": [
    "def median(arr):  \n",
    "    \n",
    "    NthTerm = int((len(arr)+1)/2)\n",
    "    \n",
    "    if len(arr)%2 == 0 :\n",
    "        median = (arr[NthTerm-1] + arr[NthTerm])/2  #As array index starts from 0\n",
    "    else:\n",
    "        median = arr[NthTerm-1]  #As array index starts from 0\n",
    "    \n",
    "    return median \n",
    "\n",
    "    \n",
    "\n",
    "a = int(median(arr))\n",
    "\n",
    "if len(arr)%2==0 :                                       # for Even terms\n",
    "    print(int(median(arr[ : int(len(arr)/2)])))              # passing starting array\n",
    "    print(a)\n",
    "    print(int(median(arr[int(len(arr)/2):])))                # passing last array\n",
    "else:                                                     # for odd terms\n",
    "    print(int(median(arr[ :int(len(arr)/2)])))               # passing starting array\n",
    "    print(a)\n",
    "    print(int(median(arr[int(len(arr)/2)+1 : ])))            # passing last array\n",
    "    \n",
    "    "
   ]
  },
  {
   "cell_type": "markdown",
   "metadata": {},
   "source": [
    "#### with numpy\n",
    "##### diffrent array is taken"
   ]
  },
  {
   "cell_type": "code",
   "execution_count": 26,
   "metadata": {
    "scrolled": false
   },
   "outputs": [
    {
     "name": "stdout",
     "output_type": "stream",
     "text": [
      "45.0 \n",
      " 55.0 \n",
      " 70.0 \n",
      "\n"
     ]
    }
   ],
   "source": [
    "a = np.array([18 ,45 ,55 ,70 ,76])\n",
    "Q1 = np.percentile(a,25)\n",
    "Q2 = np.percentile(a,50)\n",
    "Q3 = np.percentile(a,75)\n",
    "print(Q1,'\\n',Q2,'\\n',Q3,'\\n')"
   ]
  },
  {
   "cell_type": "markdown",
   "metadata": {},
   "source": [
    "## InterQuatile Range"
   ]
  },
  {
   "cell_type": "markdown",
   "metadata": {},
   "source": [
    "#### with numpy\n",
    "##### diffrent array is taken"
   ]
  },
  {
   "cell_type": "code",
   "execution_count": 28,
   "metadata": {},
   "outputs": [
    {
     "name": "stdout",
     "output_type": "stream",
     "text": [
      "5\n",
      "1 2 3 4 5\n",
      "5 4 3 2 1\n"
     ]
    }
   ],
   "source": [
    "\n",
    "n = int(input())\n",
    "arr = list(map(int,input().split()))\n",
    "frequency = list(map(int,input().split()))\n"
   ]
  },
  {
   "cell_type": "code",
   "execution_count": 29,
   "metadata": {},
   "outputs": [
    {
     "name": "stdout",
     "output_type": "stream",
     "text": [
      "2.0\n"
     ]
    }
   ],
   "source": [
    "a = np.array([arr])\n",
    "Q1 = np.percentile(arr,25)\n",
    "Q3 = np.percentile(arr,75)\n",
    "IQ = abs(Q3-Q1)\n",
    "print(IQ)"
   ]
  },
  {
   "cell_type": "code",
   "execution_count": 30,
   "metadata": {},
   "outputs": [
    {
     "name": "stdout",
     "output_type": "stream",
     "text": [
      "2.0\n"
     ]
    }
   ],
   "source": [
    "\n",
    "def median(arr):  \n",
    "    \n",
    "    NthTerm = int((len(arr)+1)/2)\n",
    "    \n",
    "    if len(arr)%2 == 0 :\n",
    "        median = (arr[NthTerm-1] + arr[NthTerm])/2  #As array index starts from 0\n",
    "    else:\n",
    "        median = arr[NthTerm-1]  #As array index starts from 0\n",
    "    \n",
    "    return median \n",
    "\n",
    "    \n",
    "# Start    \n",
    "\n",
    "new_arr = []\n",
    "for x,y in zip(arr,frequency):\n",
    "    for _ in range(y):\n",
    "        new_arr.append(x)\n",
    "\n",
    "new_arr.sort() \n",
    "\n",
    "if len(new_arr)%2==0 :                                       # for Even terms\n",
    "    Q1 = median(new_arr[ : int(len(new_arr)/2)])              # passing starting array\n",
    "    Q3 = median(new_arr[int(len(new_arr)/2):])               # passing last array\n",
    "else:                                                     # for odd terms\n",
    "    Q1 = median(new_arr[ :int(len(new_arr)/2)])               # passing starting array\n",
    "    Q3 = median(new_arr[int(len(new_arr)/2)+1 : ])            # passing last array\n",
    "    \n",
    "\n",
    "print(\"%.1f\"%abs(Q1-Q3))\n",
    "\n"
   ]
  },
  {
   "cell_type": "code",
   "execution_count": null,
   "metadata": {},
   "outputs": [],
   "source": []
  }
 ],
 "metadata": {
  "kernelspec": {
   "display_name": "Python 3",
   "language": "python",
   "name": "python3"
  },
  "language_info": {
   "codemirror_mode": {
    "name": "ipython",
    "version": 3
   },
   "file_extension": ".py",
   "mimetype": "text/x-python",
   "name": "python",
   "nbconvert_exporter": "python",
   "pygments_lexer": "ipython3",
   "version": "3.8.5"
  }
 },
 "nbformat": 4,
 "nbformat_minor": 4
}
